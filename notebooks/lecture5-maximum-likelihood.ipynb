{
 "cells": [
  {
   "cell_type": "markdown",
   "metadata": {
    "colab_type": "text",
    "id": "i_f5u2x9nn6I",
    "slideshow": {
     "slide_type": "slide"
    }
   },
   "source": [
    "<left><img width=25% src=\"img/cornell_tech2.svg\"></left>\n",
    "\n",
    "# Lecture 5: Maximum Likelihood Learning\n",
    "\n",
    "### Applied Machine Learning\n",
    "\n",
    "__Volodymyr Kuleshov__<br>Cornell Tech"
   ]
  },
  {
   "cell_type": "markdown",
   "metadata": {
    "slideshow": {
     "slide_type": "slide"
    }
   },
   "source": [
    "# Why Does Supervised Learning Work?\n",
    "\n",
    "Prevously, we saw one way of explaining why supervised learning works.\n",
    "\n"
   ]
  },
  {
   "cell_type": "markdown",
   "metadata": {
    "slideshow": {
     "slide_type": "slide"
    }
   },
   "source": [
    "# Part 1: Probabilistic Modeling\n",
    "\n",
    "In this lecture, we are going to look at why supervised learning works from a new, probabilistic perspective.\n",
    "\n",
    "First, we are going to start by defining the probabilistic approach to machine learning and set up some notation."
   ]
  },
  {
   "cell_type": "markdown",
   "metadata": {
    "slideshow": {
     "slide_type": "slide"
    }
   },
   "source": [
    "# Review: Machine Learning Models\n",
    "\n",
    "A machine learning model is a function\n",
    "$$ f : \\mathcal{X} \\to \\mathcal{Y} $$\n",
    "that maps inputs $x \\in \\mathcal{X}$ to targets $y \\in \\mathcal{Y}$."
   ]
  },
  {
   "cell_type": "markdown",
   "metadata": {
    "slideshow": {
     "slide_type": "fragment"
    }
   },
   "source": [
    "Often, models have *parameters* $\\theta \\in \\Theta$ living in a set $\\Theta$. We will then write the model as\n",
    "$$ f_\\theta : \\mathcal{X} \\to \\mathcal{Y} $$\n",
    "to denote that it's parametrized by $\\theta$."
   ]
  },
  {
   "cell_type": "markdown",
   "metadata": {
    "slideshow": {
     "slide_type": "slide"
    }
   },
   "source": [
    "# Review: Data Distribution\n",
    "\n",
    "We will assume that the dataset is governed by a probability distribution $\\mathbb{P}$, which we will call the *data distribution*. We will denote this as\n",
    "$$ x, y \\sim \\mathbb{P}. $$\n",
    "\n",
    "The training set $\\mathcal{D} = \\{(x^{(i)}, y^{(i)}) \\mid i = 1,2,...,n\\}$ consists of *independent and identicaly distributed* (IID) samples from $\\mathbb{P}$."
   ]
  },
  {
   "cell_type": "markdown",
   "metadata": {
    "slideshow": {
     "slide_type": "slide"
    }
   },
   "source": [
    "# Probabilistic Models\n",
    "\n",
    "A probabilistic model is a probability distribution\n",
    "$$P(x,y) : \\mathcal{X} \\times \\mathcal{Y} \\to [0,1].$$\n",
    "This model can approximate the data distribution $\\mathbb{P}(x,y)$."
   ]
  },
  {
   "cell_type": "markdown",
   "metadata": {
    "slideshow": {
     "slide_type": "fragment"
    }
   },
   "source": [
    "Probabilistic models also have *parameters* $\\theta \\in \\Theta$, which we denote as\n",
    "$$P_\\theta(x,y) : \\mathcal{X} \\times \\mathcal{Y} \\to [0,1].$$"
   ]
  },
  {
   "cell_type": "markdown",
   "metadata": {
    "slideshow": {
     "slide_type": "fragment"
    }
   },
   "source": [
    "If we know $P_\\theta(x,y)$, we can use the conditional $P_\\theta(y|x)$ for prediction."
   ]
  },
  {
   "cell_type": "markdown",
   "metadata": {
    "slideshow": {
     "slide_type": "slide"
    }
   },
   "source": [
    "# Probabilistic Models: Example\n",
    "\n",
    "Consider a simple version of our example with predicting diabetes from BMI.\n",
    "* For the target $\\mathcal{Y} = \\{0, 1\\}$, we discretize the diabetes risk score into low risk ($y=0$) and high risk ($y=1$).\n",
    "* For the input $\\mathcal{X} = \\{0, 1, 2\\}$, we also discretize the BMI into low ($x=0$), medium ($x=1$), and high ($x=2$)."
   ]
  },
  {
   "cell_type": "markdown",
   "metadata": {
    "slideshow": {
     "slide_type": "subslide"
    }
   },
   "source": [
    "Then the following is a simple probabilistic model.\n",
    "\n",
    "<!-- | BMI $x$     | Risk $y$    | P(x,y)      |\n",
    "| ----------- | ----------- | ----------- |\n",
    "| low         | low         | 0.2         |\n",
    "| medium      | low         | 0.1         |\n",
    "| high        | low         | 0.2         |\n",
    "| low         | high        | 0.05        |\n",
    "| medium      | high        | 0.1         |\n",
    "| high        | high        | 0.35        | -->"
   ]
  },
  {
   "cell_type": "code",
   "execution_count": 1,
   "metadata": {
    "slideshow": {
     "slide_type": "fragment"
    }
   },
   "outputs": [
    {
     "data": {
      "text/html": [
       "<div>\n",
       "<style scoped>\n",
       "    .dataframe tbody tr th:only-of-type {\n",
       "        vertical-align: middle;\n",
       "    }\n",
       "\n",
       "    .dataframe tbody tr th {\n",
       "        vertical-align: top;\n",
       "    }\n",
       "\n",
       "    .dataframe thead th {\n",
       "        text-align: right;\n",
       "    }\n",
       "</style>\n",
       "<table border=\"1\" class=\"dataframe\">\n",
       "  <thead>\n",
       "    <tr style=\"text-align: right;\">\n",
       "      <th></th>\n",
       "      <th>BMI $x$</th>\n",
       "      <th>Risk $y$</th>\n",
       "      <th>P</th>\n",
       "    </tr>\n",
       "  </thead>\n",
       "  <tbody>\n",
       "    <tr>\n",
       "      <th>0</th>\n",
       "      <td>low</td>\n",
       "      <td>low</td>\n",
       "      <td>0.20</td>\n",
       "    </tr>\n",
       "    <tr>\n",
       "      <th>1</th>\n",
       "      <td>medium</td>\n",
       "      <td>low</td>\n",
       "      <td>0.10</td>\n",
       "    </tr>\n",
       "    <tr>\n",
       "      <th>2</th>\n",
       "      <td>high</td>\n",
       "      <td>low</td>\n",
       "      <td>0.20</td>\n",
       "    </tr>\n",
       "    <tr>\n",
       "      <th>3</th>\n",
       "      <td>low</td>\n",
       "      <td>high</td>\n",
       "      <td>0.05</td>\n",
       "    </tr>\n",
       "    <tr>\n",
       "      <th>4</th>\n",
       "      <td>medium</td>\n",
       "      <td>high</td>\n",
       "      <td>0.10</td>\n",
       "    </tr>\n",
       "    <tr>\n",
       "      <th>5</th>\n",
       "      <td>high</td>\n",
       "      <td>high</td>\n",
       "      <td>0.35</td>\n",
       "    </tr>\n",
       "  </tbody>\n",
       "</table>\n",
       "</div>"
      ],
      "text/plain": [
       "  BMI $x$ Risk $y$     P\n",
       "0     low      low  0.20\n",
       "1  medium      low  0.10\n",
       "2    high      low  0.20\n",
       "3     low     high  0.05\n",
       "4  medium     high  0.10\n",
       "5    high     high  0.35"
      ]
     },
     "execution_count": 1,
     "metadata": {},
     "output_type": "execute_result"
    }
   ],
   "source": [
    "import pandas as pd\n",
    "\n",
    "df_model = pd.DataFrame.from_records([\n",
    "    ['low', 'low', 0.20], ['medium', 'low', 0.1], ['high', 'low', 0.2],  \n",
    "    ['low', 'high', 0.05], ['medium', 'high', 0.1], ['high', 'high', 0.35],      \n",
    "], columns=['BMI $x$', 'Risk $y$', 'P'])\n",
    "df_model"
   ]
  },
  {
   "cell_type": "markdown",
   "metadata": {
    "slideshow": {
     "slide_type": "subslide"
    }
   },
   "source": [
    "Under this model, we can compute $P(y|x) = P(x, y)/P(x)$ as follows."
   ]
  },
  {
   "cell_type": "code",
   "execution_count": 4,
   "metadata": {},
   "outputs": [
    {
     "name": "stderr",
     "output_type": "stream",
     "text": [
      "/var/folders/k2/rshxrq014ylghy11g120k3vh0000gn/T/ipykernel_64270/4027912829.py:1: FutureWarning: The default value of numeric_only in DataFrameGroupBy.sum is deprecated. In a future version, numeric_only will default to False. Either specify numeric_only or select only columns which should be valid for the function.\n",
      "  df_px = df_model.groupby('BMI $x$').sum().rename(columns={'P' : 'Px'})\n"
     ]
    },
    {
     "data": {
      "text/html": [
       "<div>\n",
       "<style scoped>\n",
       "    .dataframe tbody tr th:only-of-type {\n",
       "        vertical-align: middle;\n",
       "    }\n",
       "\n",
       "    .dataframe tbody tr th {\n",
       "        vertical-align: top;\n",
       "    }\n",
       "\n",
       "    .dataframe thead th {\n",
       "        text-align: right;\n",
       "    }\n",
       "</style>\n",
       "<table border=\"1\" class=\"dataframe\">\n",
       "  <thead>\n",
       "    <tr style=\"text-align: right;\">\n",
       "      <th></th>\n",
       "      <th>BMI $x$</th>\n",
       "      <th>Risk $y$</th>\n",
       "      <th>$P(y|x)$</th>\n",
       "    </tr>\n",
       "  </thead>\n",
       "  <tbody>\n",
       "    <tr>\n",
       "      <th>0</th>\n",
       "      <td>low</td>\n",
       "      <td>low</td>\n",
       "      <td>0.800000</td>\n",
       "    </tr>\n",
       "    <tr>\n",
       "      <th>1</th>\n",
       "      <td>low</td>\n",
       "      <td>high</td>\n",
       "      <td>0.200000</td>\n",
       "    </tr>\n",
       "    <tr>\n",
       "      <th>2</th>\n",
       "      <td>medium</td>\n",
       "      <td>low</td>\n",
       "      <td>0.500000</td>\n",
       "    </tr>\n",
       "    <tr>\n",
       "      <th>3</th>\n",
       "      <td>medium</td>\n",
       "      <td>high</td>\n",
       "      <td>0.500000</td>\n",
       "    </tr>\n",
       "    <tr>\n",
       "      <th>4</th>\n",
       "      <td>high</td>\n",
       "      <td>low</td>\n",
       "      <td>0.363636</td>\n",
       "    </tr>\n",
       "    <tr>\n",
       "      <th>5</th>\n",
       "      <td>high</td>\n",
       "      <td>high</td>\n",
       "      <td>0.636364</td>\n",
       "    </tr>\n",
       "  </tbody>\n",
       "</table>\n",
       "</div>"
      ],
      "text/plain": [
       "  BMI $x$ Risk $y$  $P(y|x)$\n",
       "0     low      low  0.800000\n",
       "1     low     high  0.200000\n",
       "2  medium      low  0.500000\n",
       "3  medium     high  0.500000\n",
       "4    high      low  0.363636\n",
       "5    high     high  0.636364"
      ]
     },
     "execution_count": 4,
     "metadata": {},
     "output_type": "execute_result"
    }
   ],
   "source": [
    "df_px = df_model.groupby('BMI $x$').sum().rename(columns={'P' : 'Px'})\n",
    "df_conditional_model = df_model.merge(df_px, on='BMI $x$')\n",
    "df_conditional_model['$P(y|x)$'] = df_conditional_model['P'] / df_conditional_model['Px'] \n",
    "df_conditional_model.iloc[:,[0,1,4]]"
   ]
  },
  {
   "cell_type": "markdown",
   "metadata": {
    "slideshow": {
     "slide_type": "slide"
    }
   },
   "source": [
    "# Why Use Probabilistic Models?\n",
    "\n",
    "The probabilistic approach to machine learning is powerful."
   ]
  },
  {
   "cell_type": "markdown",
   "metadata": {
    "slideshow": {
     "slide_type": "fragment"
    }
   },
   "source": [
    "* We can fit models that capture predictive *uncertainty*."
   ]
  },
  {
   "cell_type": "markdown",
   "metadata": {
    "slideshow": {
     "slide_type": "fragment"
    }
   },
   "source": [
    "* We can construct models in a more principled way by explicitly modeling the data distribution."
   ]
  },
  {
   "cell_type": "markdown",
   "metadata": {
    "slideshow": {
     "slide_type": "fragment"
    }
   },
   "source": [
    "* It offers a new perspective on why supervised learning works."
   ]
  },
  {
   "cell_type": "markdown",
   "metadata": {
    "slideshow": {
     "slide_type": "slide"
    }
   },
   "source": [
    "<left><img width=25% src=\"img/cornell_tech2.svg\"></left>\n",
    "# Part 2: Monte Carlo Estimation\n",
    "\n",
    "Next, we are going to define Monte Carlo sampling, a mathematical tool that will be important in this lecture and later in the course."
   ]
  },
  {
   "cell_type": "markdown",
   "metadata": {
    "slideshow": {
     "slide_type": "slide"
    }
   },
   "source": [
    "# Notation: Random Variable\n",
    "\n",
    "Suppose that we have a variable $x \\in \\mathcal{X}$ that is governed by a distribution $\\mathbb{P}$:\n",
    "$$ x \\sim \\mathbb{P}(x). $$\n",
    "This $x$ can be a sample from a data distribution, or any other random variable."
   ]
  },
  {
   "cell_type": "markdown",
   "metadata": {
    "slideshow": {
     "slide_type": "slide"
    }
   },
   "source": [
    "# Notation: Expected Value\n",
    "\n",
    "Recall that the expected value of a function $g : \\mathcal{X} \\to \\mathbb{R}$ when the input $x$ to $g$ is sampled from $\\mathbb{P}$ is given by\n",
    "$$ E_{x \\sim P}[g(x)] = \\sum_{x} g(x) P(x), $$\n",
    "where we assumed for simplicity that $x$ is discrete."
   ]
  },
  {
   "cell_type": "markdown",
   "metadata": {
    "slideshow": {
     "slide_type": "subslide"
    }
   },
   "source": [
    "In practice computing expected values is not always easy:\n",
    "* $x$ can take on a very large number of values and summing over all of them is not possible.\n",
    "* When $x$ is continuous, the expected value can be an integral with no closed form solution."
   ]
  },
  {
   "cell_type": "markdown",
   "metadata": {
    "slideshow": {
     "slide_type": "fragment"
    }
   },
   "source": [
    "In practice, we often use *approximate* methods to compute expected values."
   ]
  },
  {
   "cell_type": "markdown",
   "metadata": {
    "slideshow": {
     "slide_type": "slide"
    }
   },
   "source": [
    "# Monte Carlo Estimation\n",
    "\n",
    "Monte Carlo estimation is a way to approximately compute exepected values\n",
    "$$ E_{x \\sim P}[g(x)] = \\sum_{x} g(x) P(x).$$"
   ]
  },
  {
   "cell_type": "markdown",
   "metadata": {
    "slideshow": {
     "slide_type": "fragment"
    }
   },
   "source": [
    "1. We first generate $T$ IID samples $x_1,\\ldots,x_T$ from $P$."
   ]
  },
  {
   "cell_type": "markdown",
   "metadata": {
    "slideshow": {
     "slide_type": "fragment"
    }
   },
   "source": [
    "2. Then we estimate the expected value as:\n",
    "  $$ \\hat{g}(x_1,\\cdots,x_T) \\triangleq \\frac{1}{T} \\sum_{t=1}^{T} g(x_t) $$\n",
    "We call $\\hat g$ the Monte Carlo estimate of the expected value."
   ]
  },
  {
   "cell_type": "markdown",
   "metadata": {
    "slideshow": {
     "slide_type": "slide"
    }
   },
   "source": [
    "# Monte Carlo Estimation: Example\n",
    "\n",
    "Let's say that we throw five dice. What is the expected number of twos?"
   ]
  },
  {
   "cell_type": "markdown",
   "metadata": {
    "slideshow": {
     "slide_type": "fragment"
    }
   },
   "source": [
    "* Let $x = (x_1, x_2, \\ldots, x_5)$ be a dice roll where $x_j \\in \\{1,2,\\ldots,6\\}$ is the outcome of the $j$-th die."
   ]
  },
  {
   "cell_type": "markdown",
   "metadata": {
    "slideshow": {
     "slide_type": "fragment"
    }
   },
   "source": [
    "* Let $g(x)$ denote the number of twos in the roll of dice $x$."
   ]
  },
  {
   "cell_type": "markdown",
   "metadata": {
    "slideshow": {
     "slide_type": "subslide"
    }
   },
   "source": [
    "The expected value $E_{x \\sim P}[g(x)] = \\sum_{x} g(x) P(x)$ is the expected number of twos. We can calculate it as follows"
   ]
  },
  {
   "cell_type": "code",
   "execution_count": 57,
   "metadata": {
    "slideshow": {
     "slide_type": "fragment"
    }
   },
   "outputs": [
    {
     "name": "stdout",
     "output_type": "stream",
     "text": [
      "MC Estimate: 0.8358\n"
     ]
    }
   ],
   "source": [
    "import numpy as np\n",
    "\n",
    "# sample 10,000 rolls of five dice\n",
    "dice_rolls = np.random.randint(0, 6, size=(5,10000))\n",
    "\n",
    "# count the number of twos in each throw\n",
    "TWO_VAL = 1 # twos are denoted by 1 because of zero-based indexing\n",
    "num_twos = (dice_rolls==TWO_VAL).sum(axis=0).mean()\n",
    "\n",
    "print('MC Estimate: %.4f' % num_twos)"
   ]
  },
  {
   "cell_type": "markdown",
   "metadata": {
    "slideshow": {
     "slide_type": "fragment"
    }
   },
   "source": [
    "This makes sense, since the correct answer is $5/6 \\approx 0.83$."
   ]
  },
  {
   "cell_type": "markdown",
   "metadata": {
    "slideshow": {
     "slide_type": "slide"
    }
   },
   "source": [
    "# Properties of Monte Carlo Estimation\n",
    "\n",
    "The Monte Carlo estimate $\\hat g$ has the following properties:"
   ]
  },
  {
   "cell_type": "markdown",
   "metadata": {
    "slideshow": {
     "slide_type": "fragment"
    }
   },
   "source": [
    "* It is an unbiased estimate of the true expectation:\n",
    "$$ E_P[\\hat{g}]=E_P[g(x)] $$"
   ]
  },
  {
   "cell_type": "markdown",
   "metadata": {
    "slideshow": {
     "slide_type": "skip"
    }
   },
   "source": [
    "* It converges to the true expectation as we average additional samples.\n",
    "$$ \\hat{g} = \\frac{1}{T} \\sum_{t=1}^{T} g(x_t) \\rightarrow E_P[g(x)] \\mbox{ for } T \\rightarrow \\infty $$"
   ]
  },
  {
   "cell_type": "markdown",
   "metadata": {
    "slideshow": {
     "slide_type": "fragment"
    }
   },
   "source": [
    "* It's variance decreases to zero as we collect more samples:\n",
    "$$ \\text{var}_P[\\hat{g}]=\\text{var}_P \\left [ \\frac{1}{T} \\sum_{t=1}^{T} g(x_t) \\right ] = \\frac{\\text{var}_P[g(x)]}{T} $$\n",
    "Thus, variance of the estimator can be reduced by increasing the number of samples. "
   ]
  },
  {
   "cell_type": "markdown",
   "metadata": {
    "slideshow": {
     "slide_type": "slide"
    }
   },
   "source": [
    "# Monte Carlo: Summary\n",
    "\n",
    "* A lot of problems in ML require computing intractable expected values.\n",
    "* Monte Carlo estimation is a simple approximate method that computes expected values approximately."
   ]
  },
  {
   "cell_type": "markdown",
   "metadata": {
    "slideshow": {
     "slide_type": "slide"
    }
   },
   "source": [
    "<left><img width=25% src=\"img/cornell_tech2.svg\"></left>\n",
    "# Part 3: Maximum Likelihood\n",
    "\n",
    "Maximum likelihood learning is a general way of training machine learning models. Many algorithms we've seen so far implicitly use this principle."
   ]
  },
  {
   "cell_type": "markdown",
   "metadata": {
    "slideshow": {
     "slide_type": "slide"
    }
   },
   "source": [
    "# Review: Data Distribution\n",
    "\n",
    "We will assume that the dataset is governed by a probability distribution $\\mathbb{P}$, which we will call the *data distribution*. We will denote this as\n",
    "$$ x, y \\sim P_\\text{data}. $$\n",
    "\n",
    "The training set $\\mathcal{D} = \\{(x^{(i)}, y^{(i)}) \\mid i = 1,2,...,n\\}$ consists of *independent and identicaly distributed* (IID) samples from $P_\\text{data}$."
   ]
  },
  {
   "cell_type": "markdown",
   "metadata": {
    "slideshow": {
     "slide_type": "slide"
    }
   },
   "source": [
    "# Review: Probabilistic Models\n",
    "\n",
    "A probabilistic model is a probability distribution\n",
    "$$P_\\theta(x,y) : \\mathcal{X} \\times \\mathcal{Y} \\to [0,1].$$\n",
    "This model can approximate the data distribution $P_\\text{data}(x,y)$."
   ]
  },
  {
   "cell_type": "markdown",
   "metadata": {
    "slideshow": {
     "slide_type": "fragment"
    }
   },
   "source": [
    "Probabilistic models may also have *parameters* $\\theta \\in \\Theta$, which we denote as\n",
    "$$P_\\theta(x,y) : \\mathcal{X} \\times \\mathcal{Y} \\to [0,1].$$"
   ]
  },
  {
   "cell_type": "markdown",
   "metadata": {
    "slideshow": {
     "slide_type": "fragment"
    }
   },
   "source": [
    "If we know $P(x,y)$, we can use the conditional $P(y|x)$ for prediction."
   ]
  },
  {
   "cell_type": "markdown",
   "metadata": {
    "slideshow": {
     "slide_type": "slide"
    }
   },
   "source": [
    "\n",
    "# Learning Probabilistic Models\n",
    "\n",
    "We now have a probabilistic model and a data distribution. Thus, it is natural to try to learn learn a good probability distribution $P_\\theta(x,y)$ that approximates $P_\\text{data}(x,y)$."
   ]
  },
  {
   "cell_type": "markdown",
   "metadata": {
    "slideshow": {
     "slide_type": "subslide"
    }
   },
   "source": [
    "What are the characteristics of a good model $P_\\theta(x, y)$?\n",
    "* Predictive accuracy: correctly predicting $y$ from $x$.\n",
    "    * Does this patient have diabetes or not?"
   ]
  },
  {
   "cell_type": "markdown",
   "metadata": {
    "slideshow": {
     "slide_type": "fragment"
    }
   },
   "source": [
    "* Understanding the relationship between $x, y$?\n",
    "    * What physiological features of the patient influence their diabetes risk?"
   ]
  },
  {
   "cell_type": "markdown",
   "metadata": {
    "slideshow": {
     "slide_type": "fragment"
    }
   },
   "source": [
    "* Density estimation: approximating $P_\\text{data}(x,y)$ so that we can later answer any query."
   ]
  },
  {
   "cell_type": "markdown",
   "metadata": {
    "slideshow": {
     "slide_type": "slide"
    }
   },
   "source": [
    "# Kullback-Leibler Divergence\n",
    "\n",
    "In order to approximate $P_\\text{data}$ with $P_\\theta$, we need a measure of distance between distributions."
   ]
  },
  {
   "cell_type": "markdown",
   "metadata": {
    "slideshow": {
     "slide_type": "fragment"
    }
   },
   "source": [
    "A standard measure of similarity between distributions is the *Kullback-Leibler (KL) divergence* between two distributions $p$ and $q$, defined as\n",
    "$$\n",
    "D(p \\| q) = \\sum_{{\\bf x}} p({\\bf x}) \\log \\frac{p({\\bf x})}{q({\\bf x})}.\n",
    "$$"
   ]
  },
  {
   "cell_type": "markdown",
   "metadata": {
    "slideshow": {
     "slide_type": "subslide"
    }
   },
   "source": [
    "#### Observations:\n",
    "* $D(p \\, \\| \\, q) \\geq 0$ for all $p, q$, with equality if and only if $p= q$. Proof:\n",
    "\\begin{align*}\n",
    "\tD(p \\| q) = \\mathbb{E}_{x\\sim p}{-\\log \\frac{q({\\bf x})}{p({\\bf x})}} & \\geq -\\log \\left( \\mathbb{E}_{x\\sim p} {\\frac{q({\\bf x})}{p({\\bf x})}} \\right) \\\\ = &\n",
    "\t-\\log \\left( \\sum_{{\\bf x}} p({\\bf x}) \\frac{q({\\bf x})}{p({\\bf x})} \\right)\n",
    "\t=\n",
    "\t0\n",
    "\\end{align*}"
   ]
  },
  {
   "cell_type": "markdown",
   "metadata": {
    "slideshow": {
     "slide_type": "fragment"
    }
   },
   "source": [
    "* The KL-divergence is *asymmetric*, i.e., $D(p \\| q) \\neq D(q \\| p)$"
   ]
  },
  {
   "cell_type": "markdown",
   "metadata": {
    "slideshow": {
     "slide_type": "fragment"
    }
   },
   "source": [
    "* It has roots in information theory."
   ]
  },
  {
   "cell_type": "markdown",
   "metadata": {
    "slideshow": {
     "slide_type": "slide"
    }
   },
   "source": [
    "# Learning Models Using KL Divergence\n",
    "\n",
    "We may now learn a probabilistic model $P_\\theta(x,y)$ that approximates $P_\\text{data}(x,y)$ via the KL divergence:\n",
    "\\begin{align*}\n",
    "D(P_{\\textrm{data}} \\mid \\mid {P_\\theta}) & = \\mathbb{E}_{x,y \\sim P_{\\textrm{data}}}{\\log\\left(\n",
    "\\frac{P_{\\textrm{data}}(x, y)}{P_\\theta(x, y)}\n",
    "\\right)} \\\\ & = \\sum_{{x, y}} P_{\\textrm{data}}({x, y}) \\log \\frac{P_{\\textrm{data}}({x, y})}{P_\\theta(x, y)}\n",
    "\\end{align*}\n",
    "\n",
    "Note that $D(P_{\\textrm{data}} \\mid \\mid {P_\\theta})=0$ iff the two distributions are the same."
   ]
  },
  {
   "cell_type": "markdown",
   "metadata": {
    "slideshow": {
     "slide_type": "slide"
    }
   },
   "source": [
    "# From KL Divergence to Log Likelihood\n",
    "\n",
    "$\n",
    "\\newcommand{\\x}{x, y}\n",
    "\\newcommand{\\ex}[2]{\\mathbb{E}_{#1 \\sim #2}}\n",
    "\\newcommand{\\en}[2]{D(#1 \\mid \\mid #2)}\n",
    "$\n",
    "We can simplify the KL divergence objective somewhat:\n",
    "\\begin{eqnarray*}\n",
    "\\en{P_{\\textrm{data}}}{P_\\theta} &=& \\ex{\\x}{P_{\\textrm{data}}}{\\log\\left(\n",
    "\\frac{P_{\\textrm{data}}(\\x)}{P_\\theta(\\x)}\n",
    "\\right)} \\\\\n",
    "&=& \n",
    "%-\\bH(P_{\\textrm{data}}) \n",
    "\\ex{\\x}{P_{\\textrm{data}}}{\\log P_{\\textrm{data}}(\\x)}\n",
    "- \\ex{\\x}{P_{\\textrm{data}}}{\\log P_\\theta(\\x)}\n",
    "\\end{eqnarray*}\n"
   ]
  },
  {
   "cell_type": "markdown",
   "metadata": {
    "slideshow": {
     "slide_type": "subslide"
    }
   },
   "source": [
    "The first term does not depend on $P_\\theta$: minimizing KL divergence is equivalent to maximizing the expected log-likelihood.\n",
    "\\begin{align*}\n",
    "\\arg\\min_{P_\\theta} \\en{P_{\\textrm{data}}}{P_\\theta} & = \\arg\\min_{P_\\theta} - \\ex{\\x}{P_{\\textrm{data}}}{\\log P_\\theta(\\x)} \\\\ & = \\arg\\max_{P_\\theta} \\ex{\\x}{P_{\\textrm{data}}}{\\log P_\\theta(\\x)}\n",
    "\\end{align*}"
   ]
  },
  {
   "cell_type": "markdown",
   "metadata": {
    "slideshow": {
     "slide_type": "subslide"
    }
   },
   "source": [
    "We have now defined a learning objective equivalent to optimize the KL divergence:\n",
    "$$\\arg\\max_{P_\\theta} \\ex{\\x}{P_{\\textrm{data}}}{\\log P_\\theta(\\x)}$$"
   ]
  },
  {
   "cell_type": "markdown",
   "metadata": {
    "slideshow": {
     "slide_type": "fragment"
    }
   },
   "source": [
    "* This asks that $P_\\theta$ assign high probability to instances sampled from $P_{\\textrm{data}}$, so as to reflect the true distribution."
   ]
  },
  {
   "cell_type": "markdown",
   "metadata": {
    "slideshow": {
     "slide_type": "skip"
    }
   },
   "source": [
    "* Because of $\\log$, samples $\\x$ where $P_\\theta(\\x) \\approx 0$ weigh heavily in the objective."
   ]
  },
  {
   "cell_type": "markdown",
   "metadata": {
    "slideshow": {
     "slide_type": "fragment"
    }
   },
   "source": [
    "Problem: In general we do not know $P_{\\textrm{data}}$, hence expected value is intractable."
   ]
  },
  {
   "cell_type": "markdown",
   "metadata": {
    "slideshow": {
     "slide_type": "slide"
    }
   },
   "source": [
    "# Maximum Likelihood Estimation\n",
    "\n",
    "$\n",
    "\\newcommand{\\exd}[2]{\\mathbb{E}_{#1 \\sim #2}}\n",
    "\\newcommand{\\cd}{\\mathcal{D}}\n",
    "$\n",
    "Applying, Monte Carlo estimation, we may approximate the expected log-likelihood\n",
    "$$\n",
    "\\ex{\\x}{P_{\\textrm{data}}}{\\log P_\\theta(\\x)}\n",
    "$$\n",
    "with the *empirical log-likelihood*:\n",
    "$$\n",
    "\\exd{\\cd}{P_\\theta(\\x)} = \\frac{1}{|\\cd|}\\sum_{\\x\\in \\cd} \\log P_\\theta(\\x)\n",
    "$$"
   ]
  },
  {
   "cell_type": "markdown",
   "metadata": {
    "slideshow": {
     "slide_type": "fragment"
    }
   },
   "source": [
    "Maximum likelihood learning is then:\n",
    "$$\n",
    "\\max_{P_\\theta} \\hspace{2mm} \\frac{1}{|\\cd|}\\sum_{\\x\\in \\cd} \\log P_\\theta(\\x).\n",
    "$$\n",
    "<!-- Equivalently, we maximize probability of the data under model $P_\\theta((x^{(1)}, y^{(1)}), \\cdots, (x^{(n)}, y^{(n)})) = \\prod_{\\x\\in \\cd} P_\\theta(\\x)$ -->"
   ]
  },
  {
   "cell_type": "markdown",
   "metadata": {
    "slideshow": {
     "slide_type": "slide"
    }
   },
   "source": [
    "# Example: Flipping a Random Coin\n",
    "\n",
    "$\n",
    "\\newcommand{\\cm}{\\mathcal{M}}\n",
    "$\n",
    "Consider a simple example in which we repeatedly toss a biased coin and record the outcomes."
   ]
  },
  {
   "cell_type": "markdown",
   "metadata": {
    "slideshow": {
     "slide_type": "fragment"
    }
   },
   "source": [
    "* There are two possible outcomes: heads ($H$) and tails ($T$). A training dataset consists of tosses of the biased coin, e.g., $\\cd=\\{H,H,T,H,T\\}$ "
   ]
  },
  {
   "cell_type": "markdown",
   "metadata": {
    "slideshow": {
     "slide_type": "fragment"
    }
   },
   "source": [
    "* Assumption: true probability distribution is $P_{\\textrm{data}}(x)$, $x \\in \\{H,T\\}$ "
   ]
  },
  {
   "cell_type": "markdown",
   "metadata": {
    "slideshow": {
     "slide_type": "fragment"
    }
   },
   "source": [
    "* Our task is to model the probability of heads/tails. Our class of models $\\cm$ are Bernoulli distributions over $x \\in\\{H,T\\}$.\n",
    "<!-- * Example learning task: How should we choose $P_\\theta(x)$ from $\\cm$ if 60 out of 100 tosses are heads in $\\cd$? -->"
   ]
  },
  {
   "cell_type": "markdown",
   "metadata": {
    "slideshow": {
     "slide_type": "slide"
    }
   },
   "source": [
    "# Example: Flipping a Random Coin\n",
    "\n",
    "How should we choose $P_\\theta(x)$ from $\\cm$ if 3 out of 5 tosses are heads in $\\cd$? Let's apply maximum likelihood learning."
   ]
  },
  {
   "cell_type": "markdown",
   "metadata": {
    "slideshow": {
     "slide_type": "fragment"
    }
   },
   "source": [
    "* Our model is $P_\\theta(x=H)=\\theta$ and $P_\\theta(x=T)=1-\\theta$\n",
    "* Our data is: $\\cd=\\{H,H,T,H,T\\}$ \n",
    "* The likelihood of the data is $\\prod_{i} P_\\theta(x_i)=\\theta \\cdot \\theta \\cdot (1-\\theta) \\cdot \\theta \\cdot (1-\\theta)$."
   ]
  },
  {
   "cell_type": "markdown",
   "metadata": {
    "slideshow": {
     "slide_type": "fragment"
    }
   },
   "source": [
    "We optimize for $\\theta$ which makes $\\cd$ most likely. What is the solution in this case?"
   ]
  },
  {
   "cell_type": "code",
   "execution_count": 5,
   "metadata": {
    "slideshow": {
     "slide_type": "subslide"
    }
   },
   "outputs": [
    {
     "data": {
      "text/plain": [
       "[<matplotlib.lines.Line2D at 0x121769a20>]"
      ]
     },
     "execution_count": 5,
     "metadata": {},
     "output_type": "execute_result"
    },
    {
     "data": {
      "image/png": "[encoded data removed]",
      "text/plain": [
       "<Figure size 432x288 with 1 Axes>"
      ]
     },
     "metadata": {
      "needs_background": "light"
     },
     "output_type": "display_data"
    }
   ],
   "source": [
    "%matplotlib inline\n",
    "import numpy as np\n",
    "from matplotlib import pyplot as plt\n",
    "\n",
    "# our dataset is {H, H, T, H, T}; if theta = P(x=H), we get:\n",
    "coin_likelihood = lambda theta: theta*theta*(1-theta)*theta*(1-theta)\n",
    "\n",
    "theta_vals = np.linspace(0,1)\n",
    "plt.plot(theta_vals, coin_likelihood(theta_vals))"
   ]
  },
  {
   "cell_type": "markdown",
   "metadata": {
    "slideshow": {
     "slide_type": "slide"
    }
   },
   "source": [
    "# Example: Flipping a Random Coin\n",
    "\n",
    "Our log-likelihood function is\n",
    "\\begin{eqnarray}\n",
    "\\nonumber\n",
    "L(\\theta) &=& \\theta^{\\#\\,\\text{heads}} \\cdot (1-\\theta)^{\\#\\,\\text{tails}}\\\\\n",
    "\\nonumber\n",
    "\\log L(\\theta) &=& \\log(\\theta^{\\#\\,\\text{heads}} \\cdot (1-\\theta)^{\\#\\,\\text{tails}}) \\\\\n",
    "\\nonumber\n",
    "&=& \\#\\,\\text{heads} \\cdot \\log(\\theta) + \\#\\,\\text{tails} \\cdot \\log(1-\\theta)\n",
    "\\end{eqnarray}\n",
    "The MLE estimate is the $\\theta^* \\in [0,1]$ such that $\\log L(\\theta^*)$ is maximum."
   ]
  },
  {
   "cell_type": "markdown",
   "metadata": {
    "slideshow": {
     "slide_type": "subslide"
    }
   },
   "source": [
    "Differentiating the log-likelihood function with respect to $\\theta$ and setting the derivative to zero, we obtain\n",
    "$$\\theta^*= \\frac{\\#\\,\\text{heads}}{\\#\\,\\text{heads}+\\#\\,\\text{tails}}$$"
   ]
  },
  {
   "cell_type": "markdown",
   "metadata": {
    "slideshow": {
     "slide_type": "fragment"
    }
   },
   "source": [
    "When exact solutions are not available, we can optimize the log likelihood numerically, e.g. using gradient descent.\n",
    "\n",
    "We will see examples of this later."
   ]
  },
  {
   "cell_type": "markdown",
   "metadata": {
    "slideshow": {
     "slide_type": "slide"
    }
   },
   "source": [
    "# Conditional Maximum Likelihood\n",
    "\n",
    "Sometimes, we may be interested in only fitting a *conditional* model $P(y | x)$. For example, we may be only interested in predicting $y$ from $x$ rather than learning the joint structure of $x, y$."
   ]
  },
  {
   "cell_type": "markdown",
   "metadata": {
    "slideshow": {
     "slide_type": "fragment"
    }
   },
   "source": [
    "We can extend the principle of maximum likelihood learning to this setting as well. In this case, we are interested in minimizing\n",
    "$$ \\min_\\theta \\mathbb{E}_{x \\sim \\mathbb{P}_\\text{data}} \\left[ D(P_\\text{data}(y|x) \\mid\\mid P_\\theta(y|x)) \\right], $$\n",
    "the expected KL divergence between $P_\\text{data}(y|x)$ and $P_\\theta(y|x)$ over all the inputs $x$."
   ]
  },
  {
   "cell_type": "markdown",
   "metadata": {
    "slideshow": {
     "slide_type": "subslide"
    }
   },
   "source": [
    "With a bit of math, we can show that the maximum likelihood objective becomes\n",
    "$$ \\max_\\theta \\mathbb{E}_{x, y \\sim \\mathbb{P}_\\text{data}} \\log P_\\theta(y|x). $$\n",
    "This is the principle of *conditional maximum likelihood*"
   ]
  },
  {
   "cell_type": "markdown",
   "metadata": {
    "slideshow": {
     "slide_type": "slide"
    }
   },
   "source": [
    "<left><img width=25% src=\"img/cornell_tech2.svg\"></left>\n",
    "# Part 4: Extensions of Maximum Likelihood\n",
    "\n",
    "Maximum likelihood learning is one approach for training probabilistic machine learning models.\n",
    "\n",
    "An evern more general approach comes from Bayesian statistics. We briefly overview the Bayesian approach in this lesson."
   ]
  },
  {
   "cell_type": "markdown",
   "metadata": {
    "slideshow": {
     "slide_type": "slide"
    }
   },
   "source": [
    "# Review: Maximum Likelihood Learning\n",
    "\n",
    "Recall that in maximum likelihood learning, we are optimizing the following objective:\n",
    "$$ \\theta_\\text{MLE} = \\arg\\max_\\theta \\mathbb{E}_{x, y \\sim \\mathbb{P}_\\text{data}} \\log P(x, y; \\theta). $$\n"
   ]
  },
  {
   "cell_type": "markdown",
   "metadata": {
    "slideshow": {
     "slide_type": "slide"
    }
   },
   "source": [
    "# The Frequentist Approach\n",
    "\n",
    "So far, we viewed the parameter $\\theta_\\text{MLE}$ as a fixed but unknown quantity that we want to determine. \n",
    "$$ \\theta_\\text{MLE} = \\arg\\max_\\theta \\mathbb{E}_{x, y \\sim \\mathbb{P}_\\text{data}} \\log P(x, y; \\theta). $$\n",
    "\n",
    "This view is an example of the *frequentist* approach in statistics: there exists some true value of $\\theta_\\text{MLE}$ and our job is to devise statistical procedure to estimate this value."
   ]
  },
  {
   "cell_type": "markdown",
   "metadata": {
    "slideshow": {
     "slide_type": "slide"
    }
   },
   "source": [
    "# The Bayesian Approach\n",
    "\n",
    "In *Bayesian* statistics, $\\theta$ is a *random* variable whose value happens to be unknown."
   ]
  },
  {
   "cell_type": "markdown",
   "metadata": {
    "slideshow": {
     "slide_type": "fragment"
    }
   },
   "source": [
    "We formulate two models:\n",
    "* A *likelihood* model $P(x, y | \\theta)$ that defines the probability of $x,y$ for any fixed value of $\\theta$.\n",
    "* A *prior* $P(\\theta)$ that specifies us existing belief about the distribution of the random variable $\\theta$."
   ]
  },
  {
   "cell_type": "markdown",
   "metadata": {
    "slideshow": {
     "slide_type": "subslide"
    }
   },
   "source": [
    "Together, these two models define the *joint* distribution\n",
    "$$ P(x, y, \\theta) = P(x, y \\mid \\theta) P(\\theta) $$\n",
    "in which both the $x, y$ and the parameters $\\theta$ are random variables."
   ]
  },
  {
   "cell_type": "markdown",
   "metadata": {
    "slideshow": {
     "slide_type": "slide"
    }
   },
   "source": [
    "# Bayesian Inference and Learning\n",
    "\n",
    "How do we estimate the parameter $\\theta$ that is consistent with a given dataset $\\mathcal{D} = \\{(x^{(1)}, y^{(1)}), (x^{(2)}, y^{(2)}), \\ldots, (x^{(n)}, y^{(n)})\\}$?\n",
    "\n",
    "Since the variable $\\theta$ is a random value, in the Bayesian approach we are interested in the *posterior* probability $P(\\theta \\mid \\mathcal{D})$ of $\\theta$ given the dataset $\\mathcal{D}$."
   ]
  },
  {
   "cell_type": "markdown",
   "metadata": {
    "slideshow": {
     "slide_type": "subslide"
    }
   },
   "source": [
    "How do we obtain $P(\\theta \\mid \\mathcal{D})$? This value is computed using Bayes' rule:\n",
    "\\begin{align*}\n",
    "P(\\theta \\mid \\mathcal{D})\n",
    "& = \\frac{P(\\mathcal{D} \\mid \\theta) P(\\theta)}{P(\\mathcal{D})} \\\\\n",
    "& = \\frac{P(\\mathcal{D} \\mid \\theta) P(\\theta)}{\\int_\\theta P(\\mathcal{D}, \\theta)P(\\theta) d\\theta},\n",
    "\\end{align*}\n",
    "where $P(\\mathcal{D} \\mid \\theta) = \\prod_{i=1}^n P(x^{(i)}, y^{(i)} \\mid \\theta)$."
   ]
  },
  {
   "cell_type": "markdown",
   "metadata": {
    "slideshow": {
     "slide_type": "slide"
    }
   },
   "source": [
    "# Bayesian Predictions\n",
    "\n",
    "Suppose we now want to predict the value of $y$ from $x$. Unlike in the frequentist setting, we no longer have a single estimate $\\theta$ of the model params, but instead we have a distribution."
   ]
  },
  {
   "cell_type": "markdown",
   "metadata": {
    "slideshow": {
     "slide_type": "subslide"
    }
   },
   "source": [
    "The Bayesian approach to predicting $y$ given an input $x$ and a training dataset $\\mathcal{D}$ consists of taking the prediction of all the possible models\n",
    "$$ P(y | x, \\mathcal{D}) = \\int_\\theta P(y \\mid x, \\theta) P(\\theta \\mid \\mathcal{D}) d\\theta. $$\n",
    "This is called the *posterior predictive* distribution. Note how each $P(y \\mid x, \\theta)$ is weighted by the probability of $\\theta$ given $\\mathcal{D}$."
   ]
  },
  {
   "cell_type": "markdown",
   "metadata": {
    "slideshow": {
     "slide_type": "slide"
    }
   },
   "source": [
    "# The Pros and Cons of the Bayesian Approach\n",
    "\n",
    "The Bayesian approach is very powerful. Some of its advantages include:\n",
    "* Principled estimates of uncertainty, both in the prediction and in the paramters of the model.\n",
    "* Ability to incorporate prior knowledge via the prior.\n",
    "* Providing a general framework for reasoning about probabilistic models."
   ]
  },
  {
   "cell_type": "markdown",
   "metadata": {
    "slideshow": {
     "slide_type": "subslide"
    }
   },
   "source": [
    "The main disadvantage is by far the computational complexity. Averaging over all possible model weights is typically intracatble. There exists an entire field of machine learning that studies how to approximate it."
   ]
  },
  {
   "cell_type": "markdown",
   "metadata": {
    "slideshow": {
     "slide_type": "slide"
    }
   },
   "source": [
    "# Maximum A Posteriori Learning\n",
    "\n",
    "Instead of trying to use the posterior distribution of $P(\\theta | \\mathcal{D})$, a common approach is to approximate this distribution by its most likely value:\n",
    "\\begin{align*}\n",
    "\\theta_\\text{MAP} & = \\arg\\max_\\theta \\log P(\\theta | \\mathcal{D}) \\\\\n",
    "& = \\arg\\max_\\theta \\left( \\log P(\\mathcal{D} \\mid \\theta) + \\log P(\\theta) - \\log P(\\mathcal{D}) \\right)\\\\\n",
    "& = \\arg\\max_\\theta \\left( \\log \\prod_{i=1}^n P(x^{(i)}, y^{(i)} \\mid \\theta) + \\log P(\\theta) \\right),\n",
    "\\end{align*}\n",
    "where in the second line we used Bayes' theorem and in the third line we used the fact that $P(\\mathcal{D})$ does not depend on $\\theta$."
   ]
  },
  {
   "cell_type": "markdown",
   "metadata": {
    "slideshow": {
     "slide_type": "subslide"
    }
   },
   "source": [
    "Thus, we have the following objective:\n",
    "$$\\arg\\max_\\theta \\left( \\log \\prod_{i=1}^n P(x^{(i)}, y^{(i)} \\mid \\theta) + \\log P(\\theta) \\right).$$\n",
    "The $\\theta_\\text{MAP}$ is known as the *maximum a posteriori* estimate. Note that we used the same formula as we used for maximum likelihood, except that we have added the prior term $\\log P(\\theta)$."
   ]
  },
  {
   "cell_type": "markdown",
   "metadata": {
    "slideshow": {
     "slide_type": "slide"
    }
   },
   "source": [
    "# Example: Flipping a Random Coin\n",
    "\n",
    "How should we choose $P(x\\mid \\theta)$ from $\\cm$ if 3 out of 5 tosses are heads in $\\cd$? Let's apply maximum likelihood learning."
   ]
  },
  {
   "cell_type": "markdown",
   "metadata": {
    "slideshow": {
     "slide_type": "fragment"
    }
   },
   "source": [
    "* Our model is $P(x=H \\mid \\theta)=\\theta$ and $P(x=T \\mid \\theta)=1-\\theta$\n",
    "* Our data is: $\\cd=\\{H,H,T,H,T\\}$ \n",
    "* The likelihood of the data is $\\prod_{i} P(x_i \\mid \\theta)=\\theta \\cdot \\theta \\cdot (1-\\theta) \\cdot \\theta \\cdot (1-\\theta)$."
   ]
  },
  {
   "cell_type": "markdown",
   "metadata": {
    "slideshow": {
     "slide_type": "subslide"
    }
   },
   "source": [
    "Let's now make this a MAP problem. Let's assume the prior follows the [Beta](https://en.wikipedia.org/wiki/Beta_distribution) distribution:\n",
    "$$ P(\\theta) = \\frac{1}{B(\\alpha+1, \\beta+1)} \\theta^\\alpha (1-\\theta)^\\beta, $$\n",
    "where $\\alpha, \\beta >0$ are parameters and $B$ is the Beta function."
   ]
  },
  {
   "cell_type": "markdown",
   "metadata": {
    "slideshow": {
     "slide_type": "fragment"
    }
   },
   "source": [
    "The joint probability on $\\cd=\\{H,H,T,H,T\\}$ is then\n",
    "$$ \\prod_{i} P(x_i \\mid \\theta) P(\\theta) =\\theta \\cdot \\theta \\cdot (1-\\theta) \\cdot \\theta \\cdot (1-\\theta) \\frac{\\theta^\\alpha (1-\\theta)^\\beta}{B(\\alpha+1, \\beta+1)} $$"
   ]
  },
  {
   "cell_type": "markdown",
   "metadata": {
    "slideshow": {
     "slide_type": "subslide"
    }
   },
   "source": [
    "Let's derive an analytic solution. Our objective function is\n",
    "\\begin{eqnarray}\n",
    "\\nonumber\n",
    "L(\\theta) &\\propto& \\theta^{\\#\\,\\text{heads}} \\cdot (1-\\theta)^{\\#\\,\\text{tails}} \\cdot \\theta^{\\alpha} \\cdot (1-\\theta)^\\beta\\\\\n",
    "\\nonumber\n",
    "\\log L(\\theta) &=& \\log(\\theta^{\\#\\,\\text{heads}} \\cdot (1-\\theta)^{\\#\\,\\text{tails}} \\cdot \\theta^{\\alpha} \\cdot (1-\\theta)^\\beta) + \\text{const.} \\\\\n",
    "\\nonumber\n",
    "&=& (\\#\\,\\text{heads} + \\alpha) \\cdot \\log(\\theta) + (\\#\\,\\text{tails} + \\beta) \\cdot \\log(1-\\theta)\n",
    "\\end{eqnarray}"
   ]
  },
  {
   "cell_type": "markdown",
   "metadata": {
    "slideshow": {
     "slide_type": "subslide"
    }
   },
   "source": [
    "Differentiating the log-likelihood function with respect to $\\theta$ and setting the derivative to zero, we obtain\n",
    "$$\\theta^*= \\frac{\\#\\,\\text{heads} + \\alpha}{\\#\\,\\text{heads}+\\#\\,\\text{tails} + \\alpha + \\beta}$$\n"
   ]
  },
  {
   "cell_type": "markdown",
   "metadata": {
    "slideshow": {
     "slide_type": "fragment"
    }
   },
   "source": [
    "Thus, we see that adding a Beta prior with parameters $\\alpha, \\beta$ allows to encode having seen $\\alpha$ \"virtual heads\" and $\\beta$ \"virtual tails\".\n",
    "\n",
    "This is an example of how we can add prior knowledge into the model."
   ]
  },
  {
   "cell_type": "markdown",
   "metadata": {
    "slideshow": {
     "slide_type": "subslide"
    }
   },
   "source": [
    "For example, if out initial dataset is\n",
    "$$\\cd=\\{H,H,T,H,T\\}$$\n",
    "and we set $\\alpha =1$, $\\beta=1$, then the optimal $\\theta^*$ will be as if we had the following dataset\n",
    "$$\\cd_\\text{virtual}=\\{H,H,T,H,T,H,T\\}$$\n",
    "with an extra head and tail."
   ]
  },
  {
   "cell_type": "code",
   "execution_count": 59,
   "metadata": {
    "slideshow": {
     "slide_type": "subslide"
    }
   },
   "outputs": [
    {
     "data": {
      "text/plain": [
       "[<matplotlib.lines.Line2D at 0x122266b38>]"
      ]
     },
     "execution_count": 59,
     "metadata": {},
     "output_type": "execute_result"
    },
    {
     "data": {
      "image/png": "[encoded data removed]",
      "text/plain": [
       "<Figure size 432x288 with 1 Axes>"
      ]
     },
     "metadata": {
      "needs_background": "light"
     },
     "output_type": "display_data"
    }
   ],
   "source": [
    "%matplotlib inline\n",
    "import numpy as np\n",
    "from matplotlib import pyplot as plt\n",
    "\n",
    "# our dataset is {H, H, T, H, T}; if theta = P(x=H), we get:\n",
    "alpha, beta = 1, 1\n",
    "# our effective dataset is {H, H, T, H, T, H, T}\n",
    "coin_likelihood = lambda theta: theta*theta*(1-theta)*theta*(1-theta)*(theta**alpha)*((1-theta)**beta)\n",
    "\n",
    "theta_vals = np.linspace(0,1)\n",
    "plt.plot(theta_vals, coin_likelihood(theta_vals))"
   ]
  }
 ],
 "metadata": {
  "accelerator": "GPU",
  "celltoolbar": "Slideshow",
  "colab": {
   "collapsed_sections": [],
   "name": "neural-ode.ipynb",
   "provenance": []
  },
  "kernelspec": {
   "display_name": "Python 3 (ipykernel)",
   "language": "python",
   "name": "python3"
  },
  "language_info": {
   "codemirror_mode": {
    "name": "ipython",
    "version": 3
   },
   "file_extension": ".py",
   "mimetype": "text/x-python",
   "name": "python",
   "nbconvert_exporter": "python",
   "pygments_lexer": "ipython3",
   "version": "3.8.13"
  },
  "rise": {
   "controlsTutorial": false,
   "height": 900,
   "help": false,
   "margin": 0,
   "maxScale": 2,
   "minScale": 0.2,
   "progress": true,
   "scroll": true,
   "theme": "simple",
   "width": 1200
  }
 },
 "nbformat": 4,
 "nbformat_minor": 1
}
